{
 "cells": [
  {
   "cell_type": "markdown",
   "id": "ff26f8e0",
   "metadata": {},
   "source": [
    "Note: there is an API but I need to spend time to understand it and to make it work. Some links, [here](https://docs.microsoft.com/en-us/partner-center/develop/get-all-azure-usage-analytics), [here](https://docs.microsoft.com/en-us/partner-center/insights-programmatic-analytics-api-get-report), and [here](https://docs.microsoft.com/en-us/partner-center/develop/partner-center-rest-api-reference). While I don't find time I will download the reports manually and process its data."
   ]
  },
  {
   "cell_type": "markdown",
   "id": "0a08d691",
   "metadata": {},
   "source": [
    "## Manual Procedure to dowload the data\n",
    "\n",
    "1. Sign-in at https://partner.microsoft.com/\n",
    "2. At Membership -> Competencies -> 'Download skill report'\n",
    "3. At Insights -> Download Reports -> 'Azure Usage' (time frame 3 months)\n"
   ]
  },
  {
   "cell_type": "code",
   "execution_count": null,
   "id": "79ce1f3b",
   "metadata": {},
   "outputs": [],
   "source": [
    "import pandas as pd\n",
    "pd.set_option('display.max_columns', None)\n",
    "pd.set_option('display.max_rows', None)\n",
    "pd.set_option('display.max_colwidth', None)"
   ]
  },
  {
   "cell_type": "code",
   "execution_count": null,
   "id": "1f15e314",
   "metadata": {},
   "outputs": [],
   "source": [
    "%run 'docx_functions.ipynb'"
   ]
  },
  {
   "cell_type": "code",
   "execution_count": null,
   "id": "7c86a104",
   "metadata": {},
   "outputs": [],
   "source": [
    "document_path = 'northwave_microsoft_partner_report.docx'"
   ]
  },
  {
   "cell_type": "code",
   "execution_count": null,
   "id": "a604943d",
   "metadata": {},
   "outputs": [],
   "source": [
    "create_file_based_template ('template/nw_style.docx',document_path)"
   ]
  },
  {
   "cell_type": "markdown",
   "id": "caef4740",
   "metadata": {},
   "source": [
    "## Processing Trainings"
   ]
  },
  {
   "cell_type": "code",
   "execution_count": null,
   "id": "2ec27145",
   "metadata": {},
   "outputs": [],
   "source": [
    "df_skills = pd.read_csv('UserSkillsReport.csv',skiprows=4)"
   ]
  },
  {
   "cell_type": "code",
   "execution_count": null,
   "id": "60173bb5",
   "metadata": {},
   "outputs": [],
   "source": [
    "df_skills_certified = df_skills[df_skills['Skill Type']=='Exam'][[' Name','Skill ID']].sort_values('Skill ID').reset_index(drop=True)\n",
    "df_skills_certified"
   ]
  },
  {
   "cell_type": "code",
   "execution_count": null,
   "id": "4365e5bb",
   "metadata": {},
   "outputs": [],
   "source": [
    "search_n_replace_4dataframe (document_path, 'TABLE_CERTIFICATIONS', df_skills_certified, keep_anchor=False)"
   ]
  },
  {
   "cell_type": "code",
   "execution_count": null,
   "id": "6ce0e6a1",
   "metadata": {},
   "outputs": [],
   "source": [
    "df_summary_certifications = df_skills_certified['Skill ID'].value_counts().reset_index().rename({'index': 'Certification','Skill ID':'Count'}, axis=1)\n",
    "df_summary_certifications"
   ]
  },
  {
   "cell_type": "code",
   "execution_count": null,
   "id": "cf6feaee",
   "metadata": {},
   "outputs": [],
   "source": [
    "search_n_replace_4dataframe (document_path, 'TABLE_SUMMARY_CERTIFICATIONS', df_summary_certifications, keep_anchor=False)"
   ]
  },
  {
   "cell_type": "markdown",
   "id": "7929d1bd",
   "metadata": {},
   "source": [
    "Keep in mind:\n",
    "- Advanced Specialization on Cloud Security (6xAZ500 + 4SC200) [link](https://partner.microsoft.com/en-us/dashboard/mpn/program/security?program=HybridCloudSecurityASP)\n",
    "- Advanced Specialization on Identity and Access Management (6xMS500)\n",
    "- Advanced Specialization on Information Protection and Governance (6xMS500)\n",
    "- Advanced Specialization on Threat Protection (6xMS500)"
   ]
  },
  {
   "cell_type": "markdown",
   "id": "a0f8b014",
   "metadata": {},
   "source": [
    "## Processing Azure Usage"
   ]
  },
  {
   "cell_type": "code",
   "execution_count": null,
   "id": "4cb59eed",
   "metadata": {},
   "outputs": [],
   "source": [
    "month = 'Feb-2022'"
   ]
  },
  {
   "cell_type": "code",
   "execution_count": null,
   "id": "8cd8b5f7",
   "metadata": {},
   "outputs": [],
   "source": [
    "df_azure_usage = pd.read_csv('Export_azure-usage_3Month_02242022_0805hrs_68b0fc37-ad4b-4c6e-ba22-3eaafe4b5e41.csv')"
   ]
  },
  {
   "cell_type": "code",
   "execution_count": null,
   "id": "e34b53fc",
   "metadata": {},
   "outputs": [],
   "source": [
    "df_azure_usage = df_azure_usage[df_azure_usage['CustomerName'] != 'Jair']"
   ]
  },
  {
   "cell_type": "code",
   "execution_count": null,
   "id": "256223a8",
   "metadata": {},
   "outputs": [],
   "source": [
    "df_azure_usage = df_azure_usage[df_azure_usage['Month']==month]"
   ]
  },
  {
   "cell_type": "code",
   "execution_count": null,
   "id": "6a23dee1",
   "metadata": {},
   "outputs": [],
   "source": [
    "df_azure_usage"
   ]
  },
  {
   "cell_type": "code",
   "execution_count": null,
   "id": "dd691b74",
   "metadata": {},
   "outputs": [],
   "source": [
    "df_customer_resources = df_azure_usage['CustomerName'].value_counts().rename_axis('Customer').reset_index()\n",
    "df_customer_resources = df_customer_resources.rename({'CustomerName': 'num_Resources'}, axis=1)\n",
    "df_customer_resources = df_customer_resources.sort_values(by=['Customer']).reset_index(drop=True)\n",
    "df_customer_resources"
   ]
  },
  {
   "cell_type": "code",
   "execution_count": null,
   "id": "43c43a1d",
   "metadata": {},
   "outputs": [],
   "source": [
    "search_n_replace_4dataframe (document_path, 'TABLE_CUSTOMER_LIST', df_customer_resources, keep_anchor=False)"
   ]
  },
  {
   "cell_type": "markdown",
   "id": "98600c9e",
   "metadata": {},
   "source": [
    "## Customer, IndustryName and VerticalName"
   ]
  },
  {
   "cell_type": "code",
   "execution_count": null,
   "id": "786352ae",
   "metadata": {},
   "outputs": [],
   "source": [
    "df_customers_info = df_azure_usage.groupby(by=['CustomerName','IndustryName','VerticalName']).size().reset_index().drop(0,axis=1)\n",
    "df_customers_info"
   ]
  },
  {
   "cell_type": "code",
   "execution_count": null,
   "id": "97eba49c",
   "metadata": {},
   "outputs": [],
   "source": [
    "search_n_replace_4dataframe (document_path, 'TABLE_ CUSTOMER_INDUSTRY_VERTICAL', df_customers_info, keep_anchor=False)"
   ]
  },
  {
   "cell_type": "code",
   "execution_count": null,
   "id": "d151db8c",
   "metadata": {},
   "outputs": [],
   "source": [
    "df_industry_vertical = df_customers_info.groupby(by=['IndustryName','VerticalName']).size().reset_index().rename({0: 'Count'}, axis=1)\n",
    "# .reset_index(level=[0,1])\n",
    "df_industry_vertical"
   ]
  },
  {
   "cell_type": "code",
   "execution_count": null,
   "id": "8c93e5bf",
   "metadata": {},
   "outputs": [],
   "source": [
    "search_n_replace_4dataframe (document_path, 'TABLE_INDUSTRY_VERTICAL', df_industry_vertical, keep_anchor=False)"
   ]
  },
  {
   "cell_type": "markdown",
   "id": "c28a649f",
   "metadata": {},
   "source": [
    "## Customer usage with different UsageUnits"
   ]
  },
  {
   "cell_type": "code",
   "execution_count": null,
   "id": "a45dc09c",
   "metadata": {
    "scrolled": false
   },
   "outputs": [],
   "source": [
    "df_usage_extended = df_azure_usage.groupby(by=['CustomerName','UsageUnits']).agg({'UsageQuantity':[lambda x: x.astype(int).sum()]}).reset_index()\n",
    "df_usage_extended"
   ]
  },
  {
   "cell_type": "code",
   "execution_count": null,
   "id": "2a2c3ff2",
   "metadata": {},
   "outputs": [],
   "source": [
    "search_n_replace_4dataframe (document_path, 'TABLE_CUSTOMER_USAGE_EXTENDED', df_usage_extended, keep_anchor=False)"
   ]
  },
  {
   "cell_type": "code",
   "execution_count": null,
   "id": "19c05585",
   "metadata": {},
   "outputs": [],
   "source": [
    "customer_total_usage = df_azure_usage.groupby(by=['CustomerName']).agg({'UsageQuantity':['sum']}).reset_index()\n",
    "customer_total_usage"
   ]
  },
  {
   "cell_type": "code",
   "execution_count": null,
   "id": "e38727ce",
   "metadata": {},
   "outputs": [],
   "source": [
    "search_n_replace_4dataframe (document_path, 'TABLE_CUSTOMER_USAGE_SUM', customer_total_usage, keep_anchor=False)"
   ]
  },
  {
   "cell_type": "code",
   "execution_count": null,
   "id": "03fa8f6f",
   "metadata": {},
   "outputs": [],
   "source": [
    "sum_total_usage_GB = \"{:,}\".format(df_azure_usage['UsageQuantity'].sum())\n",
    "sum_total_usage_GB"
   ]
  },
  {
   "cell_type": "code",
   "execution_count": null,
   "id": "fb157bc0",
   "metadata": {},
   "outputs": [],
   "source": [
    "search_n_replace_4word (document_path, 'TEXT_SUM_TOTAL_USAGE', sum_total_usage_GB)"
   ]
  },
  {
   "cell_type": "code",
   "execution_count": null,
   "id": "7a1d374d",
   "metadata": {},
   "outputs": [],
   "source": [
    "!open $document_path"
   ]
  }
 ],
 "metadata": {
  "kernelspec": {
   "display_name": "Python 3",
   "language": "python",
   "name": "python3"
  },
  "language_info": {
   "codemirror_mode": {
    "name": "ipython",
    "version": 3
   },
   "file_extension": ".py",
   "mimetype": "text/x-python",
   "name": "python",
   "nbconvert_exporter": "python",
   "pygments_lexer": "ipython3",
   "version": "3.9.10"
  }
 },
 "nbformat": 4,
 "nbformat_minor": 5
}
